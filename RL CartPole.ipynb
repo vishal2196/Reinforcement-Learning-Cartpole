{
 "cells": [
  {
   "cell_type": "code",
   "execution_count": 1,
   "metadata": {
    "collapsed": false
   },
   "outputs": [],
   "source": [
    "import tensorflow as tf\n",
    "import numpy as np\n",
    "import random\n",
    "import gym\n",
    "import math\n",
    "import matplotlib.pyplot as plt"
   ]
  },
  {
   "cell_type": "code",
   "execution_count": 2,
   "metadata": {
    "collapsed": false
   },
   "outputs": [],
   "source": [
    "def softmax(x):\n",
    "    e_x = np.exp(x - np.max(x))\n",
    "    out = e_x / e_x.sum()\n",
    "    return out"
   ]
  },
  {
   "cell_type": "code",
   "execution_count": 49,
   "metadata": {
    "collapsed": false
   },
   "outputs": [],
   "source": [
    "def policy_gradient():\n",
    "    \n",
    "    with tf.variable_scope(\"policy1\", reuse=True):\n",
    "        params=tf.get_variable(\"policy_parameters\",[4,2])\n",
    "        state=tf.placeholder(\"float\",[None,4])\n",
    "        actions=tf.placeholder(\"float\",[None,2])\n",
    "        advantages=tf.placeholder(\"float\",[None,1])\n",
    "        linear=tf.matmul(state,params)\n",
    "        probabilities=tf.nn.softmax(linear)\n",
    "        good_probs=tf.reduce_sum(tf.mul(probabilities, actions), reduction_indices=[1])\n",
    "        eligibility = tf.log(good_probs)*advantages\n",
    "        loss=-tf.reduce_sum(eligibility)\n",
    "        optimizer=tf.train.AdamOptimizer(0.01).minimize(loss)\n",
    "        return probabilities, state, actions, advantages, optimizer\n"
   ]
  },
  {
   "cell_type": "code",
   "execution_count": 50,
   "metadata": {
    "collapsed": true
   },
   "outputs": [],
   "source": [
    "def value_fn():\n",
    "    with tf.variable_scope(\"value1\" , reuse=True):\n",
    "        state=tf.placeholder(\"float\",[None,4])\n",
    "        newvals=tf.placeholder(\"float\",[None,1])\n",
    "        w1 = tf.get_variable(\"w1\",[4,20])\n",
    "        b1 = tf.get_variable(\"b1\",[20])\n",
    "        h1 = tf.matmul(state,w1)+b1\n",
    "        h1=tf.nn.relu(h1)\n",
    "        w2 = tf.get_variable(\"w2\",[20,1])\n",
    "        b2 = tf.get_variable(\"b2\",[1])\n",
    "        calculated = tf.matmul(h1,w2) + b2\n",
    "        diffs = calculated-newvals\n",
    "        loss = tf.nn.l2_loss(diffs)\n",
    "        optimizer = tf.train.AdamOptimizer(0.1).minimize(loss)\n",
    "        return calculated, state, newvals, optimizer, loss\n",
    "        "
   ]
  },
  {
   "cell_type": "code",
   "execution_count": 51,
   "metadata": {
    "collapsed": false
   },
   "outputs": [],
   "source": [
    "def run_episode(env, policy_gradient, value_fn, sess):\n",
    "    pl_calculated, pl_state, pl_actions, pl_advantages, pl_optimizer = policy_gradient\n",
    "    vl_calculated, vl_state, vl_newvals, vl_optimizer, vl_loss = value_fn\n",
    "    observation = env.reset()\n",
    "    totalreward = 0\n",
    "    states = []\n",
    "    actions = []\n",
    "    advantages = []\n",
    "    transitions = []\n",
    "    update_vals = []\n",
    "\n",
    "\n",
    "    for _ in xrange(200):\n",
    "        obs_vector=np.expand_dims(observation,axis=0)\n",
    "        probs = sess.run(pl_calculated,feed_dict={pl_state:obs_vector})\n",
    "        action = 0 if random.uniform(0,1)< probs[0][0] else 1\n",
    "        states.append(observation)\n",
    "        action_blank=np.zeros(2)\n",
    "        action_blank[action]=1\n",
    "        actions.append(action_blank)\n",
    "        old_observation = observation\n",
    "        observation, reward, done, info = env.step(action)\n",
    "        transitions.append((old_observation,action,reward))\n",
    "        totalreward+=reward\n",
    "        if done:\n",
    "            break\n",
    "    \n",
    "    for index, trans in enumerate(transitions):\n",
    "        obs,action,reward = trans\n",
    "        \n",
    "        future_reward = 0\n",
    "        future_steps = len(transitions)-index\n",
    "        \n",
    "        decrease = 1\n",
    "        for index2 in xrange(future_steps):\n",
    "            future_reward+=transitions[index2 + index][2]*decrease\n",
    "            decrease*=0.97\n",
    "        obs_vector = np.expand_dims(obs, axis=0)\n",
    "        currentval = sess.run(vl_calculated, feed_dict={vl_state:obs_vector})[0][0]\n",
    "        \n",
    "        advantages.append(future_reward-currentval)\n",
    "        update_vals.append(future_reward)\n",
    "        \n",
    "    update_vals_vector=np.expand_dims(update_vals, axis=1)\n",
    "    sess.run(vl_optimizer, feed_dict={vl_state:states, vl_newvals:update_vals_vector})\n",
    "    advantages_vector = np.expand_dims(advantages, axis=1)\n",
    "    sess.run(pl_optimizer, feed_dict={pl_state:states, pl_actions:actions, pl_advantages:advantages_vector})\n",
    "    \n",
    "    return totalreward\n",
    "\n",
    "        "
   ]
  },
  {
   "cell_type": "code",
   "execution_count": 52,
   "metadata": {
    "collapsed": false
   },
   "outputs": [
    {
     "name": "stderr",
     "output_type": "stream",
     "text": [
      "INFO:gym.envs.registration:Making new env: CartPole-v0\n",
      "[2017-01-26 11:03:58,642] Making new env: CartPole-v0\n",
      "WARNING:gym.envs.registration:DEPRECATION WARNING: env.spec.timestep_limit has been deprecated. Replace your call to `env.spec.timestep_limit` with `env.spec.tags.get('wrapper_config.TimeLimit.max_episode_steps')`. This change was made 12/28/2016 and is included in version 0.7.0\n",
      "[2017-01-26 11:03:58,645] DEPRECATION WARNING: env.spec.timestep_limit has been deprecated. Replace your call to `env.spec.timestep_limit` with `env.spec.tags.get('wrapper_config.TimeLimit.max_episode_steps')`. This change was made 12/28/2016 and is included in version 0.7.0\n"
     ]
    },
    {
     "name": "stdout",
     "output_type": "stream",
     "text": [
      "WARNING:tensorflow:From <ipython-input-52-9c24845f66ac>:9 in <module>.: initialize_all_variables (from tensorflow.python.ops.variables) is deprecated and will be removed after 2017-03-02.\n",
      "Instructions for updating:\n",
      "Use `tf.global_variables_initializer` instead.\n"
     ]
    },
    {
     "name": "stderr",
     "output_type": "stream",
     "text": [
      "WARNING:tensorflow:From <ipython-input-52-9c24845f66ac>:9 in <module>.: initialize_all_variables (from tensorflow.python.ops.variables) is deprecated and will be removed after 2017-03-02.\n",
      "Instructions for updating:\n",
      "Use `tf.global_variables_initializer` instead.\n",
      "[2017-01-26 11:03:58,926] From <ipython-input-52-9c24845f66ac>:9 in <module>.: initialize_all_variables (from tensorflow.python.ops.variables) is deprecated and will be removed after 2017-03-02.\n",
      "Instructions for updating:\n",
      "Use `tf.global_variables_initializer` instead.\n",
      "INFO:gym.monitoring.video_recorder:Starting new video recorder writing to /home/vishal/RL/cartpole-experiment-1/openaigym.video.12.6912.video000000.mp4\n",
      "[2017-01-26 11:03:59,363] Starting new video recorder writing to /home/vishal/RL/cartpole-experiment-1/openaigym.video.12.6912.video000000.mp4\n",
      "INFO:gym.monitoring.video_recorder:Starting new video recorder writing to /home/vishal/RL/cartpole-experiment-1/openaigym.video.12.6912.video000001.mp4\n",
      "[2017-01-26 11:04:00,621] Starting new video recorder writing to /home/vishal/RL/cartpole-experiment-1/openaigym.video.12.6912.video000001.mp4\n",
      "INFO:gym.monitoring.video_recorder:Starting new video recorder writing to /home/vishal/RL/cartpole-experiment-1/openaigym.video.12.6912.video000008.mp4\n",
      "[2017-01-26 11:04:01,136] Starting new video recorder writing to /home/vishal/RL/cartpole-experiment-1/openaigym.video.12.6912.video000008.mp4\n",
      "INFO:gym.monitoring.video_recorder:Starting new video recorder writing to /home/vishal/RL/cartpole-experiment-1/openaigym.video.12.6912.video000027.mp4\n",
      "[2017-01-26 11:04:02,259] Starting new video recorder writing to /home/vishal/RL/cartpole-experiment-1/openaigym.video.12.6912.video000027.mp4\n",
      "INFO:gym.monitoring.video_recorder:Starting new video recorder writing to /home/vishal/RL/cartpole-experiment-1/openaigym.video.12.6912.video000064.mp4\n",
      "[2017-01-26 11:04:03,128] Starting new video recorder writing to /home/vishal/RL/cartpole-experiment-1/openaigym.video.12.6912.video000064.mp4\n",
      "INFO:gym.monitoring.video_recorder:Starting new video recorder writing to /home/vishal/RL/cartpole-experiment-1/openaigym.video.12.6912.video000125.mp4\n",
      "[2017-01-26 11:04:04,984] Starting new video recorder writing to /home/vishal/RL/cartpole-experiment-1/openaigym.video.12.6912.video000125.mp4\n",
      "INFO:gym.monitoring.video_recorder:Starting new video recorder writing to /home/vishal/RL/cartpole-experiment-1/openaigym.video.12.6912.video000216.mp4\n",
      "[2017-01-26 11:04:06,741] Starting new video recorder writing to /home/vishal/RL/cartpole-experiment-1/openaigym.video.12.6912.video000216.mp4\n",
      "INFO:gym.monitoring.video_recorder:Starting new video recorder writing to /home/vishal/RL/cartpole-experiment-1/openaigym.video.12.6912.video000343.mp4\n",
      "[2017-01-26 11:04:10,131] Starting new video recorder writing to /home/vishal/RL/cartpole-experiment-1/openaigym.video.12.6912.video000343.mp4\n",
      "INFO:gym.monitoring.video_recorder:Starting new video recorder writing to /home/vishal/RL/cartpole-experiment-1/openaigym.video.12.6912.video000512.mp4\n",
      "[2017-01-26 11:04:19,727] Starting new video recorder writing to /home/vishal/RL/cartpole-experiment-1/openaigym.video.12.6912.video000512.mp4\n",
      "INFO:gym.monitoring.video_recorder:Starting new video recorder writing to /home/vishal/RL/cartpole-experiment-1/openaigym.video.12.6912.video000729.mp4\n",
      "[2017-01-26 11:04:41,620] Starting new video recorder writing to /home/vishal/RL/cartpole-experiment-1/openaigym.video.12.6912.video000729.mp4\n",
      "INFO:gym.monitoring.video_recorder:Starting new video recorder writing to /home/vishal/RL/cartpole-experiment-1/openaigym.video.12.6912.video001000.mp4\n",
      "[2017-01-26 11:05:05,704] Starting new video recorder writing to /home/vishal/RL/cartpole-experiment-1/openaigym.video.12.6912.video001000.mp4\n"
     ]
    },
    {
     "name": "stdout",
     "output_type": "stream",
     "text": [
      "success - reward is 200\n",
      "362\n",
      "164.329\n"
     ]
    }
   ],
   "source": [
    "\n",
    "from gym import wrappers\n",
    "env = gym.make('CartPole-v0')\n",
    "env = wrappers.Monitor(env, '/home/vishal/RL/cartpole-experiment-1')\n",
    "\n",
    "policy_grad=policy_gradient()\n",
    "value_grad=value_fn()\n",
    "sess=tf.InteractiveSession()\n",
    "sess.run(tf.initialize_all_variables())\n",
    "for i in xrange(1000):\n",
    "    reward = run_episode(env, policy_grad, value_grad, sess)\n",
    "    if reward ==200:\n",
    "        print \"success - reward is 200\"\n",
    "        print i\n",
    "        break\n",
    "t = 0\n",
    "for _ in xrange(1000):\n",
    "    reward = run_episode(env, policy_grad, value_grad, sess)\n",
    "    t+= reward\n",
    "print t/1000\n"
   ]
  },
  {
   "cell_type": "code",
   "execution_count": 53,
   "metadata": {
    "collapsed": false
   },
   "outputs": [],
   "source": [
    "reward = run_episode(env, policy_grad, value_grad, sess)"
   ]
  },
  {
   "cell_type": "code",
   "execution_count": 54,
   "metadata": {
    "collapsed": false
   },
   "outputs": [
    {
     "name": "stdout",
     "output_type": "stream",
     "text": [
      "200.0\n"
     ]
    }
   ],
   "source": [
    "print reward"
   ]
  },
  {
   "cell_type": "code",
   "execution_count": null,
   "metadata": {
    "collapsed": true
   },
   "outputs": [],
   "source": []
  }
 ],
 "metadata": {
  "kernelspec": {
   "display_name": "Python 2",
   "language": "python",
   "name": "python2"
  },
  "language_info": {
   "codemirror_mode": {
    "name": "ipython",
    "version": 2
   },
   "file_extension": ".py",
   "mimetype": "text/x-python",
   "name": "python",
   "nbconvert_exporter": "python",
   "pygments_lexer": "ipython2",
   "version": "2.7.10"
  }
 },
 "nbformat": 4,
 "nbformat_minor": 0
}
